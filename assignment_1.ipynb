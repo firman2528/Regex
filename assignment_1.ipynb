{
 "cells": [
  {
   "cell_type": "code",
   "execution_count": 1,
   "id": "22c01b26",
   "metadata": {},
   "outputs": [
    {
     "name": "stdout",
     "output_type": "stream",
     "text": [
      "Input the number 6\n",
      "5 5 5 5 5 5  \n",
      "5 5 5 5 5  \n",
      "5 5 5 5  \n",
      "5 5 5  \n",
      "5 5  \n",
      "5  \n"
     ]
    }
   ],
   "source": [
    "a = int(input(\"Input the number \"))\n",
    "for i in range(a,0,-1) :\n",
    "    for j in range(0,i) :\n",
    "        print(\"5\", end=\" \")\n",
    "    print(\" \")"
   ]
  },
  {
   "cell_type": "code",
   "execution_count": 2,
   "id": "e3ef78e5",
   "metadata": {},
   "outputs": [
    {
     "name": "stdout",
     "output_type": "stream",
     "text": [
      "Input the number 5\n",
      "0 1 2 3 4  \n",
      "0 1 2 3  \n",
      "0 1 2  \n",
      "0 1  \n",
      "0  \n"
     ]
    }
   ],
   "source": [
    "a = int(input(\"Input the number \"))\n",
    "for i in range(a,0,-1) :\n",
    "    for j in range(0,i) :\n",
    "        print(j, end=\" \")\n",
    "    print(\" \")"
   ]
  },
  {
   "cell_type": "code",
   "execution_count": 3,
   "id": "70e8d173",
   "metadata": {},
   "outputs": [
    {
     "name": "stdout",
     "output_type": "stream",
     "text": [
      "Input the number of itteration 7\n",
      "1 \n",
      "3 3 \n",
      "5 5 5 \n",
      "7 7 7 7 \n",
      "9 9 9 9 9 \n",
      "11 11 11 11 11 11 \n",
      "13 13 13 13 13 13 13 \n"
     ]
    }
   ],
   "source": [
    "a = int(input(\"Input the number of itteration \"))\n",
    "i = 1\n",
    "while i <=a :\n",
    "    j = 1\n",
    "    while j <=i :\n",
    "        print((i*2)-1, end =\" \")\n",
    "        j= j+1\n",
    "    i = i + 1\n",
    "    print()\n",
    "    "
   ]
  },
  {
   "cell_type": "code",
   "execution_count": 4,
   "id": "321d4180",
   "metadata": {},
   "outputs": [
    {
     "name": "stdout",
     "output_type": "stream",
     "text": [
      "Pleas input the number 7\n",
      "1 \n",
      "2 1 \n",
      "3 2 1 \n",
      "4 3 2 1 \n",
      "5 4 3 2 1 \n",
      "6 5 4 3 2 1 \n",
      "7 6 5 4 3 2 1 \n"
     ]
    }
   ],
   "source": [
    "a = int(input(\"Pleas input the number \"))\n",
    "for i  in range(0,a) :\n",
    "    for j in range(i+1,0,-1) :\n",
    "        print(j, end=\" \")\n",
    "    print(\"\")"
   ]
  },
  {
   "cell_type": "code",
   "execution_count": 5,
   "id": "42cb6f86",
   "metadata": {},
   "outputs": [
    {
     "name": "stdout",
     "output_type": "stream",
     "text": [
      "Please input the number 5\n",
      "1 \n",
      "3 2 \n",
      "6 5 4 \n",
      "10 9 8 7 \n",
      "15 14 13 12 11 \n"
     ]
    }
   ],
   "source": [
    "a = int(input(\"Please input the number \"))\n",
    "b = 0\n",
    "for i in range(1,a+1):\n",
    "    b+=i\n",
    "    c = b\n",
    "    for j in range(i):\n",
    "        print(c, end=\" \")\n",
    "        c-=1\n",
    "    print()"
   ]
  },
  {
   "cell_type": "code",
   "execution_count": 6,
   "id": "0f14ae4b",
   "metadata": {},
   "outputs": [
    {
     "name": "stdout",
     "output_type": "stream",
     "text": [
      "Input the number 7\n",
      "        1\n",
      "       1 1\n",
      "      1 2 1\n",
      "     1 3 3 1\n",
      "    1 4 6 4 1\n",
      "   1 6 1 0 5 1\n",
      "  1 7 7 1 5 6 1\n"
     ]
    }
   ],
   "source": [
    "a = int(input(\"Input the number \"))\n",
    "for i in range(a) :\n",
    "    print(' '*(a-i), end=' ')\n",
    "    print(' '.join(map(str, str(11**i))))"
   ]
  },
  {
   "cell_type": "code",
   "execution_count": 7,
   "id": "f1b2dd0a",
   "metadata": {},
   "outputs": [
    {
     "name": "stdout",
     "output_type": "stream",
     "text": [
      "Input the number 6\n",
      "1 2 3 4 5 \n",
      "1 2 3 4 5 \n",
      "2 2 3 4 5 \n",
      "3 3 3 4 5 \n",
      "4 4 4 4 5 \n",
      "5 5 5 5 5 \n"
     ]
    }
   ],
   "source": [
    "a = int(input(\"Input the number \"))\n",
    "for i in range(0,a) :\n",
    "    b = 1\n",
    "    for j in range(1,a) :\n",
    "        if j <=i:\n",
    "            print(i, end=' ')\n",
    "        else :\n",
    "            print(j, end=' ')\n",
    "    print()"
   ]
  },
  {
   "cell_type": "code",
   "execution_count": 8,
   "id": "598d0f26",
   "metadata": {},
   "outputs": [
    {
     "name": "stdout",
     "output_type": "stream",
     "text": [
      "Please input the number 7\n",
      "1 \n",
      "2 4 \n",
      "3 6 9 \n",
      "4 8 12 16 \n",
      "5 10 15 20 25 \n",
      "6 12 18 24 30 36 \n"
     ]
    }
   ],
   "source": [
    "a = int(input(\"Please input the number \"))\n",
    "for i in range(1,a) :\n",
    "    for j in range(1,i+1) :\n",
    "        print(i * j, end =\" \")\n",
    "    print()"
   ]
  },
  {
   "cell_type": "code",
   "execution_count": 9,
   "id": "48919eab",
   "metadata": {},
   "outputs": [
    {
     "name": "stdout",
     "output_type": "stream",
     "text": [
      "Please input the number 7\n",
      "            * * * * * * * *  \n",
      "             * * * * * * *  \n",
      "              * * * * * *  \n",
      "               * * * * *  \n",
      "                * * * *  \n",
      "                 * * *  \n",
      "                  * *  \n",
      "                   *  \n"
     ]
    }
   ],
   "source": [
    "a = int(input(\"Please input the number \"))\n",
    "b = 2 * a - 2\n",
    "for i in range(a, -1, -1) :\n",
    "    for j in range(b, 0, -1) :\n",
    "        print(end=\" \")\n",
    "    b +=1\n",
    "    for j in range(0,i+1) :\n",
    "        print(\"*\", end=\" \")\n",
    "    print(\" \")"
   ]
  },
  {
   "cell_type": "code",
   "execution_count": 10,
   "id": "57246e51",
   "metadata": {},
   "outputs": [
    {
     "name": "stdout",
     "output_type": "stream",
     "text": [
      "Please input the number 7\n",
      "            *  \n",
      "           * *  \n",
      "          * * *  \n",
      "         * * * *  \n",
      "        * * * * *  \n",
      "       * * * * * *  \n",
      "      * * * * * * *  \n"
     ]
    }
   ],
   "source": [
    "a = int(input(\"Please input the number \"))\n",
    "b = 2 * a - 2\n",
    "for i in range(0,a) :\n",
    "    for j in range(0,b) :\n",
    "        print(end=\" \")\n",
    "    b-=1\n",
    "    for j in range(0,i+1) :\n",
    "        print(\"*\", end = \" \")\n",
    "    print(\" \")"
   ]
  },
  {
   "cell_type": "code",
   "execution_count": 11,
   "id": "35898373",
   "metadata": {},
   "outputs": [
    {
     "name": "stdout",
     "output_type": "stream",
     "text": [
      "Please input the number 7\n",
      "\n",
      "* \n",
      "* * \n",
      "* * * \n",
      "* * * * \n",
      "* * * * * \n",
      "* * * * * * \n",
      "\n",
      "* * * * * * \n",
      "* * * * * \n",
      "* * * * \n",
      "* * * \n",
      "* * \n",
      "* \n",
      "\n"
     ]
    }
   ],
   "source": [
    "a = int(input(\"Please input the number \"))\n",
    "for i in range(0,a) :\n",
    "    for j in range(0,i) :\n",
    "        print(\"*\", end=\" \")\n",
    "    print()\n",
    "print()\n",
    "for i in range(a,0,-1) :\n",
    "    for j in range(i-1) :\n",
    "        print(\"*\", end=\" \")\n",
    "    print()"
   ]
  },
  {
   "cell_type": "code",
   "execution_count": 12,
   "id": "e48194ea",
   "metadata": {},
   "outputs": [
    {
     "name": "stdout",
     "output_type": "stream",
     "text": [
      "Please input the number 7\n",
      "\n",
      "* \n",
      "* * \n",
      "* * * \n",
      "* * * * \n",
      "* * * * * \n",
      "* * * * * * \n",
      "* * * * * \n",
      "* * * * \n",
      "* * * \n",
      "* * \n",
      "* \n",
      "\n"
     ]
    }
   ],
   "source": [
    "a = int(input(\"Please input the number \"))\n",
    "for i in range(0,a) :\n",
    "    for j in range(0,i) :\n",
    "        print(\"*\", end = \" \")\n",
    "    print()\n",
    "for i in range(a,1,-1) :\n",
    "    for j in range(1,i-1) :\n",
    "        print(\"*\",end=\" \")\n",
    "    print()"
   ]
  },
  {
   "cell_type": "code",
   "execution_count": 13,
   "id": "ed22a456",
   "metadata": {},
   "outputs": [
    {
     "name": "stdout",
     "output_type": "stream",
     "text": [
      "Please input the number 7\n",
      "              \n",
      "            * \n",
      "          * * \n",
      "        * * * \n",
      "      * * * * \n",
      "    * * * * * \n",
      "  * * * * * * \n",
      "* * * * * * * \n",
      "  * * * * * * \n",
      "    * * * * * \n",
      "      * * * * \n",
      "        * * * \n",
      "          * * \n",
      "            * \n"
     ]
    }
   ],
   "source": [
    "a = int(input(\"Please input the number \"))\n",
    "for i in range(0,a) :\n",
    "    for j in range(a-i) :\n",
    "        print(\" \", end=\" \")\n",
    "    for j in range(0,i) :\n",
    "        print(\"*\", end=\" \")\n",
    "    print()\n",
    "\n",
    "for i in range(a, 0,-1) :\n",
    "    for j in range(a-i) :\n",
    "        print(\" \", end=\" \")\n",
    "    for j in range(0,i) :\n",
    "        print(\"*\", end=' ')\n",
    "    print()"
   ]
  },
  {
   "cell_type": "code",
   "execution_count": 14,
   "id": "5b8baa4c",
   "metadata": {},
   "outputs": [
    {
     "name": "stdout",
     "output_type": "stream",
     "text": [
      "Please input the number 7\n",
      "            * * * * * * * * \n",
      "             * * * * * * * \n",
      "              * * * * * * \n",
      "               * * * * * \n",
      "                * * * * \n",
      "                 * * * \n",
      "                  * * \n",
      "                   * \n",
      "                   * \n",
      "                  * * \n",
      "                 * * * \n",
      "                * * * * \n",
      "               * * * * * \n",
      "              * * * * * * \n",
      "             * * * * * * * \n"
     ]
    }
   ],
   "source": [
    "a = int(input(\"Please input the number \"))\n",
    "b = 2 * a - 2\n",
    "for i in range(a,-1,-1) :\n",
    "    for j in range(b,0,-1) :\n",
    "        print(end=\" \")\n",
    "    b+=1\n",
    "    for j in range(0,i+1) :\n",
    "        print(\"*\", end=\" \")\n",
    "    print(\"\")\n",
    "for i in range(0,a) :\n",
    "    for j in range(1,b) :\n",
    "        print(end=\" \") \n",
    "    b-=1\n",
    "    for j in range(0,i+1) :\n",
    "        print(\"*\", end=\" \")\n",
    "    print(\"\")"
   ]
  },
  {
   "cell_type": "code",
   "execution_count": 16,
   "id": "8537cd00",
   "metadata": {},
   "outputs": [
    {
     "name": "stdout",
     "output_type": "stream",
     "text": [
      "Please input the number 16\n",
      "****************\n",
      "*******__*******\n",
      "******____******\n",
      "*****______*****\n",
      "****________****\n",
      "***__________***\n",
      "**____________**\n",
      "*______________*\n"
     ]
    }
   ],
   "source": [
    "a = int(input(\"Please input the number \"))\n",
    "print(\"*\"*a, end=\"\\n\")\n",
    "i = (a//2) - 1\n",
    "j = 2\n",
    "while i != 0:\n",
    "    while j <= (a-2) :\n",
    "        print(\"*\"*i, end=\"\")\n",
    "        print(\"_\"*j, end=\"\")\n",
    "        print(\"*\"*i, end=\"\\n\")\n",
    "        i-=1\n",
    "        j+=2"
   ]
  },
  {
   "cell_type": "code",
   "execution_count": null,
   "id": "871dabbb",
   "metadata": {},
   "outputs": [],
   "source": []
  }
 ],
 "metadata": {
  "kernelspec": {
   "display_name": "Python 3",
   "language": "python",
   "name": "python3"
  },
  "language_info": {
   "codemirror_mode": {
    "name": "ipython",
    "version": 3
   },
   "file_extension": ".py",
   "mimetype": "text/x-python",
   "name": "python",
   "nbconvert_exporter": "python",
   "pygments_lexer": "ipython3",
   "version": "3.9.5"
  }
 },
 "nbformat": 4,
 "nbformat_minor": 5
}
